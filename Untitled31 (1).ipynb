{
  "nbformat": 4,
  "nbformat_minor": 0,
  "metadata": {
    "colab": {
      "provenance": []
    },
    "kernelspec": {
      "name": "python3",
      "display_name": "Python 3"
    },
    "language_info": {
      "name": "python"
    }
  },
  "cells": [
    {
      "cell_type": "code",
      "source": [
        "pip install flask transformers\n",
        "from transformers import pipeline\n",
        "\n",
        "# Load a pre-trained model for conversation\n",
        "chatbot_pipeline = pipeline(\"conversational\", model=\"microsoft/DialoGPT-medium\")\n",
        "\n",
        "def get_chatbot_response(user_input):\n",
        "    conversation = chatbot_pipeline(user_input)\n",
        "    return conversation[0]['generated_text']\n",
        "from flask import Flask, request, jsonify\n",
        "from chatbot import get_chatbot_response\n",
        "\n",
        "app = Flask(__name__)\n",
        "\n",
        "@app.route('/chat', methods=['POST'])\n",
        "def chat():\n",
        "    user_input = request.json.get('message')\n",
        "    if not user_input:\n",
        "        return jsonify({\"error\": \"No message provided\"}), 400\n",
        "\n",
        "    response = get_chatbot_response(user_input)\n",
        "    return jsonify({\"response\": response})\n",
        "\n",
        "if __name__ == '__main__':\n",
        "    app.run(debug=True)\n",
        "from flask import Flask, request, jsonify\n",
        "from chatbot import get_chatbot_response\n",
        "\n",
        "app = Flask(__name__)\n",
        "\n",
        "# Dictionary to store user sessions\n",
        "sessions = {}\n",
        "\n",
        "@app.route('/chat', methods=['POST'])\n",
        "def chat():\n",
        "    user_id = request.json.get('user_id')\n",
        "    message = request.json.get('message')\n",
        "\n",
        "    if not user_id or not message:\n",
        "        return jsonify({\"error\": \"User ID or message not provided\"}), 400\n",
        "\n",
        "    # Initialize session if it doesn't exist\n",
        "    if user_id not in sessions:\n",
        "        sessions[user_id] = {\"context\": None}\n",
        "\n",
        "    # Get previous context for the user\n",
        "    context = sessions[user_id][\"context\"]\n",
        "\n",
        "    # Combine previous context with current message\n",
        "    user_input = f\"{context} {message}\" if context else message\n",
        "\n",
        "    # Get response from the chatbot\n",
        "    response = get_chatbot_response(user_input)\n",
        "\n",
        "    # Update context for the next interaction\n",
        "    sessions[user_id][\"context\"] = response\n",
        "\n",
        "    return jsonify({\"response\": response})\n",
        "\n",
        "if __name__ == '__main__':\n",
        "    app.run(debug=True)\n"
      ],
      "metadata": {
        "id": "MdpBz3g1mPhR"
      },
      "execution_count": null,
      "outputs": []
    }
  ]
}